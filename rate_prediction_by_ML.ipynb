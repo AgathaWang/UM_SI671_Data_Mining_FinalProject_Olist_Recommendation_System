{
  "nbformat": 4,
  "nbformat_minor": 0,
  "metadata": {
    "colab": {
      "name": "rate prediction by ML.ipynb",
      "provenance": [],
      "collapsed_sections": [],
      "toc_visible": true
    },
    "kernelspec": {
      "name": "python3",
      "display_name": "Python 3"
    }
  },
  "cells": [
    {
      "cell_type": "code",
      "metadata": {
        "colab": {
          "base_uri": "https://localhost:8080/"
        },
        "id": "_vUox1jVdmyP",
        "outputId": "ffd65647-3fa6-49fb-8bf1-2d19c4c01f7d"
      },
      "source": [
        "from google.colab import drive\n",
        "drive.mount('/content/drive')"
      ],
      "execution_count": null,
      "outputs": [
        {
          "output_type": "stream",
          "text": [
            "Mounted at /content/drive\n"
          ],
          "name": "stdout"
        }
      ]
    },
    {
      "cell_type": "code",
      "metadata": {
        "id": "6H4FnL3ndwtc"
      },
      "source": [
        "import numpy as np\n",
        "import pandas as pd\n",
        "import math"
      ],
      "execution_count": null,
      "outputs": []
    },
    {
      "cell_type": "code",
      "metadata": {
        "id": "jiTFRzIHuzh3"
      },
      "source": [
        "from sklearn.preprocessing import OneHotEncoder\n",
        "from sklearn.preprocessing import LabelEncoder\n",
        "from sklearn.model_selection import train_test_split\n",
        "from sklearn.preprocessing import StandardScaler\n",
        "from sklearn.preprocessing import MinMaxScaler\n",
        "\n",
        "from sklearn.dummy import DummyRegressor\n",
        "from sklearn.neighbors import KNeighborsRegressor\n",
        "# from sklearn.svm import SVR  will cost too much time\n",
        "import xgboost as xgb    \n",
        "from sklearn.ensemble import AdaBoostRegressor, GradientBoostingRegressor\n",
        "from sklearn.linear_model import Lasso\n",
        "from sklearn.linear_model import Ridge\n",
        "from sklearn.linear_model import LinearRegression\n",
        "from sklearn.ensemble import RandomForestRegressor\n",
        "from sklearn.neural_network import MLPRegressor\n",
        "\n",
        "from sklearn.pipeline import Pipeline\n",
        "from sklearn.metrics import mean_absolute_error\n",
        "from sklearn.metrics import mean_squared_error\n",
        "\n",
        "import seaborn as sns\n",
        "import matplotlib.pyplot as plt\n",
        "%matplotlib inline \n",
        "import warnings\n",
        "warnings.filterwarnings(\"ignore\")"
      ],
      "execution_count": null,
      "outputs": []
    },
    {
      "cell_type": "code",
      "metadata": {
        "id": "PV05oBgPeO1e"
      },
      "source": [
        "# the factors that may infect the user rate:\n",
        "\n",
        "# price\n",
        "\n",
        "# freight_value\n",
        "\n",
        "# product category\n",
        "\n",
        "# duration from purchase to delivery to the customer\n",
        "\n",
        "# the description of the purchase\n",
        "\n",
        "# if the delivery of order is late\n",
        "\n",
        "# if the customer write the comment\n",
        "\n",
        "# the number of products in one order\n",
        "\n",
        "# total price in one order"
      ],
      "execution_count": null,
      "outputs": []
    },
    {
      "cell_type": "code",
      "metadata": {
        "id": "v3JoD3IpdxM7"
      },
      "source": [
        "# run this if you use connection to your google drive\n",
        "order_reviews = pd.read_csv('drive/Shared drives/671 final project/datasets/olist_order_reviews_dataset.csv')\n",
        "orders_dataset = pd.read_csv('drive/Shared drives/671 final project/datasets/olist_orders_dataset.csv')\n",
        "order_items_dataset = pd.read_csv('drive/Shared drives/671 final project/datasets/olist_order_items_dataset.csv')\n",
        "# customers_dataset = pd.read_csv('drive/Shared drives/671 final project/datasets/olist_customers_dataset.csv')\n",
        "order_payments = pd.read_csv('drive/Shared drives/671 final project/datasets/olist_order_payments_dataset.csv')\n",
        "products_dataset = pd.read_csv('drive/Shared drives/671 final project/datasets/olist_products_dataset.csv')\n",
        "product_category_en = pd.read_csv('drive/Shared drives/671 final project/datasets/product_category_name_translation.csv')"
      ],
      "execution_count": null,
      "outputs": []
    },
    {
      "cell_type": "code",
      "metadata": {
        "id": "2xSfRBRViE5F"
      },
      "source": [
        "# # What is the difference between payment_value and price?\n",
        "# temp1 = order_payments.merge(orders_dataset,on='order_id').merge(order_items_dataset,on='order_id')\n",
        "# temp1.head()\n",
        "\n",
        "# # payment_value = price + freight_value when pay_seq = 1"
      ],
      "execution_count": null,
      "outputs": []
    },
    {
      "cell_type": "markdown",
      "metadata": {
        "id": "nHWZWNCs9l_m"
      },
      "source": [
        "# feature engineer"
      ]
    },
    {
      "cell_type": "code",
      "metadata": {
        "id": "u9fiN6HLJfPB"
      },
      "source": [
        "order_item_temp1 = order_items_dataset.groupby('order_id').agg({'order_item_id':'count','seller_id':'count','price':'sum','freight_value':'sum'}).reset_index()\n",
        "order_item_temp1.columns = ['order_id','num_of_products','num_of_sellers','tot_price', 'tot_freight_value']"
      ],
      "execution_count": null,
      "outputs": []
    },
    {
      "cell_type": "code",
      "metadata": {
        "colab": {
          "base_uri": "https://localhost:8080/",
          "height": 204
        },
        "id": "lwczX2z9JslR",
        "outputId": "866b71ef-73fe-438b-d066-16e71d8e9f94"
      },
      "source": [
        "order_item_temp1.head()"
      ],
      "execution_count": null,
      "outputs": [
        {
          "output_type": "execute_result",
          "data": {
            "text/html": [
              "<div>\n",
              "<style scoped>\n",
              "    .dataframe tbody tr th:only-of-type {\n",
              "        vertical-align: middle;\n",
              "    }\n",
              "\n",
              "    .dataframe tbody tr th {\n",
              "        vertical-align: top;\n",
              "    }\n",
              "\n",
              "    .dataframe thead th {\n",
              "        text-align: right;\n",
              "    }\n",
              "</style>\n",
              "<table border=\"1\" class=\"dataframe\">\n",
              "  <thead>\n",
              "    <tr style=\"text-align: right;\">\n",
              "      <th></th>\n",
              "      <th>order_id</th>\n",
              "      <th>num_of_products</th>\n",
              "      <th>num_of_sellers</th>\n",
              "      <th>tot_price</th>\n",
              "      <th>tot_freight_value</th>\n",
              "    </tr>\n",
              "  </thead>\n",
              "  <tbody>\n",
              "    <tr>\n",
              "      <th>0</th>\n",
              "      <td>00010242fe8c5a6d1ba2dd792cb16214</td>\n",
              "      <td>1</td>\n",
              "      <td>1</td>\n",
              "      <td>58.90</td>\n",
              "      <td>13.29</td>\n",
              "    </tr>\n",
              "    <tr>\n",
              "      <th>1</th>\n",
              "      <td>00018f77f2f0320c557190d7a144bdd3</td>\n",
              "      <td>1</td>\n",
              "      <td>1</td>\n",
              "      <td>239.90</td>\n",
              "      <td>19.93</td>\n",
              "    </tr>\n",
              "    <tr>\n",
              "      <th>2</th>\n",
              "      <td>000229ec398224ef6ca0657da4fc703e</td>\n",
              "      <td>1</td>\n",
              "      <td>1</td>\n",
              "      <td>199.00</td>\n",
              "      <td>17.87</td>\n",
              "    </tr>\n",
              "    <tr>\n",
              "      <th>3</th>\n",
              "      <td>00024acbcdf0a6daa1e931b038114c75</td>\n",
              "      <td>1</td>\n",
              "      <td>1</td>\n",
              "      <td>12.99</td>\n",
              "      <td>12.79</td>\n",
              "    </tr>\n",
              "    <tr>\n",
              "      <th>4</th>\n",
              "      <td>00042b26cf59d7ce69dfabb4e55b4fd9</td>\n",
              "      <td>1</td>\n",
              "      <td>1</td>\n",
              "      <td>199.90</td>\n",
              "      <td>18.14</td>\n",
              "    </tr>\n",
              "  </tbody>\n",
              "</table>\n",
              "</div>"
            ],
            "text/plain": [
              "                           order_id  ...  tot_freight_value\n",
              "0  00010242fe8c5a6d1ba2dd792cb16214  ...              13.29\n",
              "1  00018f77f2f0320c557190d7a144bdd3  ...              19.93\n",
              "2  000229ec398224ef6ca0657da4fc703e  ...              17.87\n",
              "3  00024acbcdf0a6daa1e931b038114c75  ...              12.79\n",
              "4  00042b26cf59d7ce69dfabb4e55b4fd9  ...              18.14\n",
              "\n",
              "[5 rows x 5 columns]"
            ]
          },
          "metadata": {
            "tags": []
          },
          "execution_count": 6
        }
      ]
    },
    {
      "cell_type": "code",
      "metadata": {
        "id": "oYN50GoGSqt3"
      },
      "source": [
        "# if the customer paid the money in one time\n",
        "order_payments_temp1 = order_payments.groupby('order_id').count()[['payment_sequential']].reset_index()\n",
        "order_payments_temp1.columns = ['order_id','payment_times']"
      ],
      "execution_count": null,
      "outputs": []
    },
    {
      "cell_type": "code",
      "metadata": {
        "colab": {
          "base_uri": "https://localhost:8080/"
        },
        "id": "9d1HEADdTsKC",
        "outputId": "07c9c13e-eac7-435f-9c05-b9877034035a"
      },
      "source": [
        "# if the order have more than one review\n",
        "order_reviews.groupby('order_id').count()[['review_id']].value_counts()"
      ],
      "execution_count": null,
      "outputs": [
        {
          "output_type": "execute_result",
          "data": {
            "text/plain": [
              "review_id\n",
              "1            98886\n",
              "2              551\n",
              "3                4\n",
              "dtype: int64"
            ]
          },
          "metadata": {
            "tags": []
          },
          "execution_count": 8
        }
      ]
    },
    {
      "cell_type": "code",
      "metadata": {
        "id": "6WGADMO0UAMP"
      },
      "source": [
        "order_reviews_temp1 = order_reviews.groupby('order_id').count()[['review_id']].reset_index()\n",
        "order_reviews_temp1.columns = ['order_id','tot_reviews']"
      ],
      "execution_count": null,
      "outputs": []
    },
    {
      "cell_type": "code",
      "metadata": {
        "id": "_KArRHxb9y1b"
      },
      "source": [
        "# the amount of order id a product exists\n",
        "order_item_temp2 = order_items_dataset.groupby('product_id').count()[['order_id']].reset_index()\n",
        "order_item_temp2.columns = ['product_id','product_tot_orders']"
      ],
      "execution_count": null,
      "outputs": []
    },
    {
      "cell_type": "code",
      "metadata": {
        "id": "fRT2rSqjDzdx"
      },
      "source": [
        "temp2 = order_payments.merge(orders_dataset,on='order_id').merge(order_reviews,on='order_id').merge(order_items_dataset,on='order_id').merge(order_item_temp1,on='order_id')\\\n",
        ".merge(products_dataset,on='product_id').merge(product_category_en,on='product_category_name').merge(order_payments_temp1,on='order_id').merge(order_reviews_temp1,on='order_id')\\\n",
        ".merge(order_item_temp2,on='product_id')"
      ],
      "execution_count": null,
      "outputs": []
    },
    {
      "cell_type": "code",
      "metadata": {
        "id": "jdCEDxA3BS8B"
      },
      "source": [
        "temp2['if_comment'] = [1 if x is not np.nan else 0 for x in temp2.review_comment_message]"
      ],
      "execution_count": null,
      "outputs": []
    },
    {
      "cell_type": "code",
      "metadata": {
        "colab": {
          "base_uri": "https://localhost:8080/",
          "height": 275
        },
        "id": "8YZ64wyaJ5QN",
        "outputId": "eb77225b-f3f2-4f07-9224-b57529caa937"
      },
      "source": [
        "temp2.head()"
      ],
      "execution_count": null,
      "outputs": [
        {
          "output_type": "execute_result",
          "data": {
            "text/html": [
              "<div>\n",
              "<style scoped>\n",
              "    .dataframe tbody tr th:only-of-type {\n",
              "        vertical-align: middle;\n",
              "    }\n",
              "\n",
              "    .dataframe tbody tr th {\n",
              "        vertical-align: top;\n",
              "    }\n",
              "\n",
              "    .dataframe thead th {\n",
              "        text-align: right;\n",
              "    }\n",
              "</style>\n",
              "<table border=\"1\" class=\"dataframe\">\n",
              "  <thead>\n",
              "    <tr style=\"text-align: right;\">\n",
              "      <th></th>\n",
              "      <th>order_id</th>\n",
              "      <th>payment_sequential</th>\n",
              "      <th>payment_type</th>\n",
              "      <th>payment_installments</th>\n",
              "      <th>payment_value</th>\n",
              "      <th>customer_id</th>\n",
              "      <th>order_status</th>\n",
              "      <th>order_purchase_timestamp</th>\n",
              "      <th>order_approved_at</th>\n",
              "      <th>order_delivered_carrier_date</th>\n",
              "      <th>order_delivered_customer_date</th>\n",
              "      <th>order_estimated_delivery_date</th>\n",
              "      <th>review_id</th>\n",
              "      <th>review_score</th>\n",
              "      <th>review_comment_title</th>\n",
              "      <th>review_comment_message</th>\n",
              "      <th>review_creation_date</th>\n",
              "      <th>review_answer_timestamp</th>\n",
              "      <th>order_item_id</th>\n",
              "      <th>product_id</th>\n",
              "      <th>seller_id</th>\n",
              "      <th>shipping_limit_date</th>\n",
              "      <th>price</th>\n",
              "      <th>freight_value</th>\n",
              "      <th>num_of_products</th>\n",
              "      <th>num_of_sellers</th>\n",
              "      <th>tot_price</th>\n",
              "      <th>tot_freight_value</th>\n",
              "      <th>product_category_name</th>\n",
              "      <th>product_name_lenght</th>\n",
              "      <th>product_description_lenght</th>\n",
              "      <th>product_photos_qty</th>\n",
              "      <th>product_weight_g</th>\n",
              "      <th>product_length_cm</th>\n",
              "      <th>product_height_cm</th>\n",
              "      <th>product_width_cm</th>\n",
              "      <th>product_category_name_english</th>\n",
              "      <th>payment_times</th>\n",
              "      <th>tot_reviews</th>\n",
              "      <th>product_tot_orders</th>\n",
              "      <th>if_comment</th>\n",
              "    </tr>\n",
              "  </thead>\n",
              "  <tbody>\n",
              "    <tr>\n",
              "      <th>0</th>\n",
              "      <td>b81ef226f3fe1789b1e8b2acac839d17</td>\n",
              "      <td>1</td>\n",
              "      <td>credit_card</td>\n",
              "      <td>8</td>\n",
              "      <td>99.33</td>\n",
              "      <td>0a8556ac6be836b46b3e89920d59291c</td>\n",
              "      <td>delivered</td>\n",
              "      <td>2018-04-25 22:01:49</td>\n",
              "      <td>2018-04-25 22:15:09</td>\n",
              "      <td>2018-05-02 15:20:00</td>\n",
              "      <td>2018-05-09 17:36:51</td>\n",
              "      <td>2018-05-22 00:00:00</td>\n",
              "      <td>4ce650e117a5b292bf5ea980a61eb61e</td>\n",
              "      <td>1</td>\n",
              "      <td>Não recomendo</td>\n",
              "      <td>Produto com qualidade ruim, amassado e descasc...</td>\n",
              "      <td>2018-05-10 00:00:00</td>\n",
              "      <td>2018-05-15 23:38:00</td>\n",
              "      <td>1</td>\n",
              "      <td>af74cc53dcffc8384b29e7abfa41902b</td>\n",
              "      <td>213b25e6f54661939f11710a6fddb871</td>\n",
              "      <td>2018-05-02 22:15:09</td>\n",
              "      <td>79.80</td>\n",
              "      <td>19.53</td>\n",
              "      <td>1</td>\n",
              "      <td>1</td>\n",
              "      <td>79.80</td>\n",
              "      <td>19.53</td>\n",
              "      <td>casa_construcao</td>\n",
              "      <td>57.0</td>\n",
              "      <td>921.0</td>\n",
              "      <td>8.0</td>\n",
              "      <td>800.0</td>\n",
              "      <td>17.0</td>\n",
              "      <td>27.0</td>\n",
              "      <td>17.0</td>\n",
              "      <td>home_construction</td>\n",
              "      <td>1</td>\n",
              "      <td>1</td>\n",
              "      <td>2</td>\n",
              "      <td>1</td>\n",
              "    </tr>\n",
              "    <tr>\n",
              "      <th>1</th>\n",
              "      <td>d86305c284cecff56c7ee9d3fbd4f8d6</td>\n",
              "      <td>1</td>\n",
              "      <td>credit_card</td>\n",
              "      <td>4</td>\n",
              "      <td>93.72</td>\n",
              "      <td>0e37385834260d6111727103a93e790a</td>\n",
              "      <td>delivered</td>\n",
              "      <td>2018-04-15 22:53:59</td>\n",
              "      <td>2018-04-15 23:10:32</td>\n",
              "      <td>2018-04-16 23:54:55</td>\n",
              "      <td>2018-04-20 00:07:39</td>\n",
              "      <td>2018-05-09 00:00:00</td>\n",
              "      <td>ec9d84039245b981ebdbf7d16c723b6e</td>\n",
              "      <td>4</td>\n",
              "      <td>NaN</td>\n",
              "      <td>NaN</td>\n",
              "      <td>2018-04-21 00:00:00</td>\n",
              "      <td>2018-04-21 10:31:10</td>\n",
              "      <td>1</td>\n",
              "      <td>af74cc53dcffc8384b29e7abfa41902b</td>\n",
              "      <td>213b25e6f54661939f11710a6fddb871</td>\n",
              "      <td>2018-04-19 23:10:02</td>\n",
              "      <td>79.80</td>\n",
              "      <td>13.92</td>\n",
              "      <td>1</td>\n",
              "      <td>1</td>\n",
              "      <td>79.80</td>\n",
              "      <td>13.92</td>\n",
              "      <td>casa_construcao</td>\n",
              "      <td>57.0</td>\n",
              "      <td>921.0</td>\n",
              "      <td>8.0</td>\n",
              "      <td>800.0</td>\n",
              "      <td>17.0</td>\n",
              "      <td>27.0</td>\n",
              "      <td>17.0</td>\n",
              "      <td>home_construction</td>\n",
              "      <td>1</td>\n",
              "      <td>1</td>\n",
              "      <td>2</td>\n",
              "      <td>0</td>\n",
              "    </tr>\n",
              "    <tr>\n",
              "      <th>2</th>\n",
              "      <td>b545ba7b0bd67a3128185c7214704319</td>\n",
              "      <td>1</td>\n",
              "      <td>credit_card</td>\n",
              "      <td>8</td>\n",
              "      <td>340.08</td>\n",
              "      <td>7e2ca73af071679902a9ba14d7c3cee8</td>\n",
              "      <td>delivered</td>\n",
              "      <td>2018-06-11 14:59:24</td>\n",
              "      <td>2018-06-11 16:31:42</td>\n",
              "      <td>2018-06-12 14:15:00</td>\n",
              "      <td>2018-06-18 16:41:04</td>\n",
              "      <td>2018-07-04 00:00:00</td>\n",
              "      <td>5f65ad4b5147b940da2da6802f18bbf7</td>\n",
              "      <td>4</td>\n",
              "      <td>NaN</td>\n",
              "      <td>NaN</td>\n",
              "      <td>2018-06-19 00:00:00</td>\n",
              "      <td>2018-06-19 20:20:45</td>\n",
              "      <td>1</td>\n",
              "      <td>2233b59e8cf2817f9659e52cce3093de</td>\n",
              "      <td>e3d3b3efac954a60d61be70b7e05b49b</td>\n",
              "      <td>2018-06-15 15:20:20</td>\n",
              "      <td>316.05</td>\n",
              "      <td>24.03</td>\n",
              "      <td>1</td>\n",
              "      <td>1</td>\n",
              "      <td>316.05</td>\n",
              "      <td>24.03</td>\n",
              "      <td>casa_construcao</td>\n",
              "      <td>58.0</td>\n",
              "      <td>1624.0</td>\n",
              "      <td>3.0</td>\n",
              "      <td>9350.0</td>\n",
              "      <td>20.0</td>\n",
              "      <td>20.0</td>\n",
              "      <td>20.0</td>\n",
              "      <td>home_construction</td>\n",
              "      <td>1</td>\n",
              "      <td>1</td>\n",
              "      <td>1</td>\n",
              "      <td>0</td>\n",
              "    </tr>\n",
              "    <tr>\n",
              "      <th>3</th>\n",
              "      <td>6a26bd1a037993f1205073dbeda67db4</td>\n",
              "      <td>1</td>\n",
              "      <td>credit_card</td>\n",
              "      <td>2</td>\n",
              "      <td>67.12</td>\n",
              "      <td>2a44b3dbad360783fd663c15c3e6367c</td>\n",
              "      <td>delivered</td>\n",
              "      <td>2018-02-15 13:53:42</td>\n",
              "      <td>2018-02-15 14:10:28</td>\n",
              "      <td>2018-02-16 22:38:59</td>\n",
              "      <td>2018-03-02 22:29:04</td>\n",
              "      <td>2018-03-08 00:00:00</td>\n",
              "      <td>fad89f16742c04dcdfec38fd6c115561</td>\n",
              "      <td>4</td>\n",
              "      <td>NaN</td>\n",
              "      <td>Otimo produto recebir no prazo certo,recomento</td>\n",
              "      <td>2018-03-03 00:00:00</td>\n",
              "      <td>2018-03-04 20:25:59</td>\n",
              "      <td>1</td>\n",
              "      <td>679a3e5e1d2bb68982be5734c6e55e63</td>\n",
              "      <td>8a130737016f838139d31878787a39c9</td>\n",
              "      <td>2018-02-21 13:10:28</td>\n",
              "      <td>54.40</td>\n",
              "      <td>12.72</td>\n",
              "      <td>1</td>\n",
              "      <td>1</td>\n",
              "      <td>54.40</td>\n",
              "      <td>12.72</td>\n",
              "      <td>casa_construcao</td>\n",
              "      <td>57.0</td>\n",
              "      <td>565.0</td>\n",
              "      <td>4.0</td>\n",
              "      <td>800.0</td>\n",
              "      <td>38.0</td>\n",
              "      <td>38.0</td>\n",
              "      <td>22.0</td>\n",
              "      <td>home_construction</td>\n",
              "      <td>1</td>\n",
              "      <td>1</td>\n",
              "      <td>29</td>\n",
              "      <td>1</td>\n",
              "    </tr>\n",
              "    <tr>\n",
              "      <th>4</th>\n",
              "      <td>1d84d00f6d2334d63f35ba528cd0d99d</td>\n",
              "      <td>1</td>\n",
              "      <td>boleto</td>\n",
              "      <td>1</td>\n",
              "      <td>63.74</td>\n",
              "      <td>488f8793429e555fbc1204d10bf0f5f9</td>\n",
              "      <td>delivered</td>\n",
              "      <td>2018-02-10 16:50:42</td>\n",
              "      <td>2018-02-16 07:56:27</td>\n",
              "      <td>2018-02-16 22:38:54</td>\n",
              "      <td>2018-02-21 01:26:56</td>\n",
              "      <td>2018-02-26 00:00:00</td>\n",
              "      <td>20e6537d2c1fb427d85b2d17a650a466</td>\n",
              "      <td>5</td>\n",
              "      <td>NaN</td>\n",
              "      <td>NaN</td>\n",
              "      <td>2018-02-22 00:00:00</td>\n",
              "      <td>2018-02-24 12:25:04</td>\n",
              "      <td>1</td>\n",
              "      <td>679a3e5e1d2bb68982be5734c6e55e63</td>\n",
              "      <td>8a130737016f838139d31878787a39c9</td>\n",
              "      <td>2018-02-22 06:56:27</td>\n",
              "      <td>54.40</td>\n",
              "      <td>9.34</td>\n",
              "      <td>1</td>\n",
              "      <td>1</td>\n",
              "      <td>54.40</td>\n",
              "      <td>9.34</td>\n",
              "      <td>casa_construcao</td>\n",
              "      <td>57.0</td>\n",
              "      <td>565.0</td>\n",
              "      <td>4.0</td>\n",
              "      <td>800.0</td>\n",
              "      <td>38.0</td>\n",
              "      <td>38.0</td>\n",
              "      <td>22.0</td>\n",
              "      <td>home_construction</td>\n",
              "      <td>1</td>\n",
              "      <td>1</td>\n",
              "      <td>29</td>\n",
              "      <td>0</td>\n",
              "    </tr>\n",
              "  </tbody>\n",
              "</table>\n",
              "</div>"
            ],
            "text/plain": [
              "                           order_id  ...  if_comment\n",
              "0  b81ef226f3fe1789b1e8b2acac839d17  ...           1\n",
              "1  d86305c284cecff56c7ee9d3fbd4f8d6  ...           0\n",
              "2  b545ba7b0bd67a3128185c7214704319  ...           0\n",
              "3  6a26bd1a037993f1205073dbeda67db4  ...           1\n",
              "4  1d84d00f6d2334d63f35ba528cd0d99d  ...           0\n",
              "\n",
              "[5 rows x 41 columns]"
            ]
          },
          "metadata": {
            "tags": []
          },
          "execution_count": 13
        }
      ]
    },
    {
      "cell_type": "code",
      "metadata": {
        "colab": {
          "base_uri": "https://localhost:8080/"
        },
        "id": "vXyAla8dKH9B",
        "outputId": "f22f921a-e8bd-4e0b-99c9-9cff12ae69fa"
      },
      "source": [
        "# temp2.columns"
      ],
      "execution_count": null,
      "outputs": [
        {
          "output_type": "execute_result",
          "data": {
            "text/plain": [
              "Index(['order_id', 'payment_sequential', 'payment_type',\n",
              "       'payment_installments', 'payment_value', 'customer_id', 'order_status',\n",
              "       'order_purchase_timestamp', 'order_approved_at',\n",
              "       'order_delivered_carrier_date', 'order_delivered_customer_date',\n",
              "       'order_estimated_delivery_date', 'review_id', 'review_score',\n",
              "       'review_comment_title', 'review_comment_message',\n",
              "       'review_creation_date', 'review_answer_timestamp', 'order_item_id',\n",
              "       'product_id', 'seller_id', 'shipping_limit_date', 'price',\n",
              "       'freight_value', 'num_of_products', 'num_of_sellers', 'tot_price',\n",
              "       'tot_freight_value', 'product_category_name', 'product_name_lenght',\n",
              "       'product_description_lenght', 'product_photos_qty', 'product_weight_g',\n",
              "       'product_length_cm', 'product_height_cm', 'product_width_cm',\n",
              "       'product_category_name_english', 'payment_times', 'tot_reviews',\n",
              "       'product_tot_orders', 'if_comment'],\n",
              "      dtype='object')"
            ]
          },
          "metadata": {
            "tags": []
          },
          "execution_count": 15
        }
      ]
    },
    {
      "cell_type": "code",
      "metadata": {
        "id": "MwYa2K0RJ_6E"
      },
      "source": [
        "# columns we need to predict the review score\n",
        "colname = ['payment_value', 'order_approved_at','order_delivered_carrier_date','order_delivered_customer_date','order_estimated_delivery_date','review_score','shipping_limit_date','price','freight_value','num_of_products',\n",
        "           'num_of_sellers','tot_price','tot_freight_value', 'product_name_lenght', 'product_description_lenght', 'product_photos_qty', 'product_weight_g','product_length_cm', 'product_height_cm', \n",
        "           'product_width_cm', 'product_category_name_english', 'payment_times','tot_reviews','product_tot_orders', 'if_comment']\n",
        "\n",
        "temp3 = temp2[colname].copy()"
      ],
      "execution_count": null,
      "outputs": []
    },
    {
      "cell_type": "code",
      "metadata": {
        "colab": {
          "base_uri": "https://localhost:8080/"
        },
        "id": "3WhzDfelMUqL",
        "outputId": "00155516-a8d5-496d-c41f-877b67fa1dd6"
      },
      "source": [
        "temp3.duplicated().unique()"
      ],
      "execution_count": null,
      "outputs": [
        {
          "output_type": "execute_result",
          "data": {
            "text/plain": [
              "array([False,  True])"
            ]
          },
          "metadata": {
            "tags": []
          },
          "execution_count": 15
        }
      ]
    },
    {
      "cell_type": "code",
      "metadata": {
        "id": "8Kl3SvhcMZBT"
      },
      "source": [
        "# drop duplicates\n",
        "temp3.drop_duplicates(inplace=True,ignore_index=True)"
      ],
      "execution_count": null,
      "outputs": []
    },
    {
      "cell_type": "code",
      "metadata": {
        "colab": {
          "base_uri": "https://localhost:8080/"
        },
        "id": "iHUntQsqNEbT",
        "outputId": "b99ec772-a78b-4f7f-f052-383fcdbdc5d6"
      },
      "source": [
        "temp3.isna().sum()"
      ],
      "execution_count": null,
      "outputs": [
        {
          "output_type": "execute_result",
          "data": {
            "text/plain": [
              "payment_value                       0\n",
              "order_approved_at                  13\n",
              "order_delivered_carrier_date     1040\n",
              "order_delivered_customer_date    2276\n",
              "order_estimated_delivery_date       0\n",
              "review_score                        0\n",
              "shipping_limit_date                 0\n",
              "price                               0\n",
              "freight_value                       0\n",
              "num_of_products                     0\n",
              "num_of_sellers                      0\n",
              "tot_price                           0\n",
              "tot_freight_value                   0\n",
              "product_name_lenght                 0\n",
              "product_description_lenght          0\n",
              "product_photos_qty                  0\n",
              "product_weight_g                    1\n",
              "product_length_cm                   1\n",
              "product_height_cm                   1\n",
              "product_width_cm                    1\n",
              "product_category_name_english       0\n",
              "payment_times                       0\n",
              "tot_reviews                         0\n",
              "product_tot_orders                  0\n",
              "if_comment                          0\n",
              "dtype: int64"
            ]
          },
          "metadata": {
            "tags": []
          },
          "execution_count": 17
        }
      ]
    },
    {
      "cell_type": "code",
      "metadata": {
        "id": "CZIlTklbqkSd"
      },
      "source": [
        "temp3.dropna(inplace=True)"
      ],
      "execution_count": null,
      "outputs": []
    },
    {
      "cell_type": "code",
      "metadata": {
        "colab": {
          "base_uri": "https://localhost:8080/"
        },
        "id": "tz-AYUGjNK5Y",
        "outputId": "75f6af8b-f877-4078-b95a-f55d05366382"
      },
      "source": [
        "temp3.shape"
      ],
      "execution_count": null,
      "outputs": [
        {
          "output_type": "execute_result",
          "data": {
            "text/plain": [
              "(102828, 25)"
            ]
          },
          "metadata": {
            "tags": []
          },
          "execution_count": 19
        }
      ]
    },
    {
      "cell_type": "code",
      "metadata": {
        "id": "N5SDlBugRhLc"
      },
      "source": [
        "temp3.order_approved_at = pd.to_datetime(temp3.order_approved_at)\n",
        "temp3.order_delivered_carrier_date = pd.to_datetime(temp3.order_delivered_carrier_date)\n",
        "temp3.order_delivered_customer_date = pd.to_datetime(temp3.order_delivered_customer_date)\n",
        "temp3.order_estimated_delivery_date = pd.to_datetime(temp3.order_estimated_delivery_date)\n",
        "temp3.shipping_limit_date = pd.to_datetime(temp3.shipping_limit_date)"
      ],
      "execution_count": null,
      "outputs": []
    },
    {
      "cell_type": "code",
      "metadata": {
        "id": "lGUsi6udR9IE"
      },
      "source": [
        "temp3['actual_delivery_duration'] = temp3.order_delivered_customer_date - temp3.order_approved_at\n",
        "temp3['actual_delivery_duration'] = temp3['actual_delivery_duration'].apply(lambda x: x.total_seconds())\n",
        "temp3['estimated_delivery_duration'] = temp3.order_estimated_delivery_date - temp3.order_approved_at\n",
        "temp3['estimated_delivery_duration'] = temp3['estimated_delivery_duration'].apply(lambda x: x.total_seconds())\n",
        "temp3['purchase_carrier_duration'] = temp3.order_estimated_delivery_date - temp3.order_approved_at\n",
        "temp3['purchase_carrier_duration'] = temp3['purchase_carrier_duration'].apply(lambda x: x.total_seconds())\n",
        "temp3['purchase_shipping_limit'] = temp3.shipping_limit_date - temp3.order_approved_at\n",
        "temp3['purchase_shipping_limit'] = temp3['purchase_shipping_limit'].apply(lambda x: x.total_seconds())\n",
        "temp3.drop(columns=['order_approved_at','order_delivered_carrier_date','order_delivered_customer_date','order_estimated_delivery_date','shipping_limit_date'],inplace=True)"
      ],
      "execution_count": null,
      "outputs": []
    },
    {
      "cell_type": "code",
      "metadata": {
        "id": "MpHJ47y9tuzI"
      },
      "source": [
        "temp3['diff_estimated_actual_delivery'] = temp3['estimated_delivery_duration'] - temp3['actual_delivery_duration']\n",
        "temp3['is_late'] = np.where(temp3['estimated_delivery_duration'] > temp3['actual_delivery_duration'], 0, 1)  # 0 not late"
      ],
      "execution_count": null,
      "outputs": []
    },
    {
      "cell_type": "code",
      "metadata": {
        "id": "wozHibOJEBg5"
      },
      "source": [
        "# the ratio of the freight:price\n",
        "temp3['freight2price'] = temp3.freight_value/temp3.price"
      ],
      "execution_count": null,
      "outputs": []
    },
    {
      "cell_type": "code",
      "metadata": {
        "id": "uFQY6ttGxtCe"
      },
      "source": [
        "def onehotenc(df_cat):\n",
        "  enc = OneHotEncoder(handle_unknown='ignore').fit(df_cat)\n",
        "  col_names = enc.get_feature_names(df_cat.columns)\n",
        "  output = pd.DataFrame(enc.transform(df_cat).toarray(),columns=col_names)\n",
        "  return output\n",
        "\n",
        "def labelenc(df_cat):\n",
        "  for col in df_cat.columns:\n",
        "    df_cat[col] = LabelEncoder().fit_transform(df_cat[col])\n",
        "  return df_cat"
      ],
      "execution_count": null,
      "outputs": []
    },
    {
      "cell_type": "code",
      "metadata": {
        "id": "eULwM-h40v_2"
      },
      "source": [
        "temp3_cat = temp3[['product_category_name_english']].copy()\n",
        "temp3_num = temp3.drop(columns='product_category_name_english')\n",
        "\n",
        "temp3_cat = labelenc(temp3_cat)\n",
        "temp3 = pd.concat([temp3_num,temp3_cat],axis=1)"
      ],
      "execution_count": null,
      "outputs": []
    },
    {
      "cell_type": "code",
      "metadata": {
        "colab": {
          "base_uri": "https://localhost:8080/"
        },
        "id": "Nz02Kvsa_geM",
        "outputId": "784f8554-aca8-439a-9318-33de51a64e84"
      },
      "source": [
        "corr_matrix = temp3.corr()\n",
        "corr_matrix['review_score'].sort_values(ascending=False)"
      ],
      "execution_count": null,
      "outputs": [
        {
          "output_type": "execute_result",
          "data": {
            "text/plain": [
              "review_score                      1.000000\n",
              "diff_estimated_actual_delivery    0.245824\n",
              "product_category_name_english     0.033318\n",
              "product_description_lenght        0.018724\n",
              "product_photos_qty                0.017729\n",
              "payment_times                    -0.002601\n",
              "price                            -0.002773\n",
              "product_tot_orders               -0.004248\n",
              "product_height_cm                -0.014686\n",
              "product_width_cm                 -0.015917\n",
              "product_name_lenght              -0.017097\n",
              "tot_reviews                      -0.019853\n",
              "product_length_cm                -0.021368\n",
              "freight2price                    -0.026212\n",
              "product_weight_g                 -0.026770\n",
              "purchase_shipping_limit          -0.027212\n",
              "freight_value                    -0.034431\n",
              "tot_price                        -0.045173\n",
              "payment_value                    -0.052606\n",
              "purchase_carrier_duration        -0.056250\n",
              "estimated_delivery_duration      -0.056250\n",
              "tot_freight_value                -0.111594\n",
              "num_of_sellers                   -0.155253\n",
              "num_of_products                  -0.155253\n",
              "if_comment                       -0.265387\n",
              "actual_delivery_duration         -0.316381\n",
              "is_late                          -0.348497\n",
              "Name: review_score, dtype: float64"
            ]
          },
          "metadata": {
            "tags": []
          },
          "execution_count": 26
        }
      ]
    },
    {
      "cell_type": "code",
      "metadata": {
        "colab": {
          "base_uri": "https://localhost:8080/",
          "height": 349
        },
        "id": "3s7QcEXvFaN4",
        "outputId": "5093940c-9787-4591-b5c5-ee73832810bd"
      },
      "source": [
        "temp1 = corr_matrix[['review_score']].sort_values(by='review_score')\n",
        "temp1.drop(index=['review_score'],inplace=True)\n",
        "temp1['correlation'] = temp1['review_score'].apply(lambda x: abs(x))\n",
        "temp1.reset_index(inplace=True)\n",
        "temp1.rename(columns={'index':'feature'},inplace=True)\n",
        "\n",
        "sns.set(rc={'figure.figsize':(5,5)})\n",
        "sns.set(font_scale = 1.4)\n",
        "sns_plot = sns.barplot(y=\"feature\", x=\"correlation\", data=temp1.sort_values(by='correlation',ascending=False).iloc[:15], color='b')  # top 10 important features\n",
        "# plt.savefig(\"feature_importance.png\")  # cannot save the whole image, part of the label text will lose\n",
        "plt.show()\n",
        "# sns_plot.figure.savefig(\"feature_importance.png\")"
      ],
      "execution_count": null,
      "outputs": [
        {
          "output_type": "display_data",
          "data": {
            "image/png": "[encoded data removed]",
            "text/plain": [
              "<Figure size 360x360 with 1 Axes>"
            ]
          },
          "metadata": {
            "tags": []
          }
        }
      ]
    },
    {
      "cell_type": "code",
      "metadata": {
        "colab": {
          "base_uri": "https://localhost:8080/"
        },
        "id": "moCyh09ga2Id",
        "outputId": "4849d465-acc7-429d-8aba-a01d57fd2c4a"
      },
      "source": [
        "# corr_matrix['review_score'].sort_values(ascending=False).index"
      ],
      "execution_count": null,
      "outputs": [
        {
          "output_type": "execute_result",
          "data": {
            "text/plain": [
              "Index(['review_score', 'diff_estimated_actual_deliery',\n",
              "       'product_category_name_english', 'product_description_lenght',\n",
              "       'product_photos_qty', 'payment_times', 'price', 'product_tot_orders',\n",
              "       'product_height_cm', 'product_width_cm', 'product_name_lenght',\n",
              "       'tot_reviews', 'product_length_cm', 'freight2price', 'product_weight_g',\n",
              "       'purchase_shipping_limit', 'freight_value', 'tot_price',\n",
              "       'payment_value', 'purchase_carrier_duration',\n",
              "       'estimated_delivery_duration', 'tot_freight_value', 'num_of_sellers',\n",
              "       'num_of_products', 'if_comment', 'actual_delivery_duration', 'is_late'],\n",
              "      dtype='object')"
            ]
          },
          "metadata": {
            "tags": []
          },
          "execution_count": 32
        }
      ]
    },
    {
      "cell_type": "markdown",
      "metadata": {
        "id": "CtK0tUHFfdHI"
      },
      "source": [
        "# Machine learning models"
      ]
    },
    {
      "cell_type": "code",
      "metadata": {
        "id": "2Y2l6-diuHBF"
      },
      "source": [
        "X = temp3.drop(columns=['review_score',]) \n",
        "y = temp3[['review_score']]"
      ],
      "execution_count": null,
      "outputs": []
    },
    {
      "cell_type": "code",
      "metadata": {
        "id": "OW9NPVTfxLnC"
      },
      "source": [
        "X_train_val,X_test,y_train_val,y_test = train_test_split(X,y,test_size=0.2)\n",
        "X_train,X_val,y_train,y_val = train_test_split(X_train_val,y_train_val,test_size=0.2)"
      ],
      "execution_count": null,
      "outputs": []
    },
    {
      "cell_type": "code",
      "metadata": {
        "id": "hPTxtMKf355p"
      },
      "source": [
        "def regression_model(reg_model):\n",
        "  pipe = Pipeline([('scaler1', MinMaxScaler()),('scaler2', StandardScaler()), ('reg',reg_model)])\n",
        "  pipe.fit(X_train,y_train)\n",
        "  y_val_pred = pipe.predict(X_val)\n",
        "  mae = mean_absolute_error(y_val,y_val_pred)\n",
        "  mse = mean_squared_error(y_val,y_val_pred)\n",
        "  rmse = np.sqrt(mse)\n",
        "  return mae, rmse"
      ],
      "execution_count": null,
      "outputs": []
    },
    {
      "cell_type": "code",
      "metadata": {
        "colab": {
          "base_uri": "https://localhost:8080/"
        },
        "id": "AD6W8X-HgVj_",
        "outputId": "b39291ff-b26f-4f35-ea4e-2575dfd3f5ef"
      },
      "source": [
        "!pip install mord"
      ],
      "execution_count": null,
      "outputs": [
        {
          "output_type": "stream",
          "text": [
            "Collecting mord\n",
            "  Downloading https://files.pythonhosted.org/packages/67/9d/c791c841501d9ff4ecb76b57f208dec6cf9f925109c59c995ddec80f9b32/mord-0.6.tar.gz\n",
            "Building wheels for collected packages: mord\n",
            "  Building wheel for mord (setup.py) ... \u001b[?25l\u001b[?25hdone\n",
            "  Created wheel for mord: filename=mord-0.6-cp36-none-any.whl size=6009 sha256=f843ea72e395d8026491f8e4d435fcda7d2369eb470c251ee30a73ceaa45f3a6\n",
            "  Stored in directory: /root/.cache/pip/wheels/98/14/b2/244c2cec93a0c6edb29b488bd6b2710ded7e9d457033b86366\n",
            "Successfully built mord\n",
            "Installing collected packages: mord\n",
            "Successfully installed mord-0.6\n"
          ],
          "name": "stdout"
        }
      ]
    },
    {
      "cell_type": "code",
      "metadata": {
        "id": "jgejqxYemcPf"
      },
      "source": [
        "import mord "
      ],
      "execution_count": null,
      "outputs": []
    },
    {
      "cell_type": "code",
      "metadata": {
        "id": "zyos3kYTgWJI"
      },
      "source": [
        "xg_reg = xgb.XGBRegressor(objective ='reg:squarederror', random_state=0, n_estimators = 50)\n",
        "mul_lr = mord.OrdinalRidge(alpha=0.001, \n",
        " \t\t\t\t\t\t\tfit_intercept=True, \n",
        "\t\t\t\t\t\t \tnormalize=False, \n",
        " \t\t\t\t\t\t\tcopy_X=True, \n",
        " \t\t\t\t\t\t\tmax_iter=None, \n",
        " \t\t\t\t\t\t\ttol=0.001, \n",
        " \t\t\t\t\t\t\tsolver='auto')\n",
        "ml_models = [DummyRegressor(strategy='mean'),KNeighborsRegressor(),xg_reg,AdaBoostRegressor(),GradientBoostingRegressor(),\n",
        "             RandomForestRegressor(),LinearRegression(),Lasso(),Ridge(),mul_lr,MLPRegressor()]"
      ],
      "execution_count": null,
      "outputs": []
    },
    {
      "cell_type": "code",
      "metadata": {
        "colab": {
          "base_uri": "https://localhost:8080/"
        },
        "id": "4p1QLzq1h4gB",
        "outputId": "fa7c0371-9e76-40c6-feab-a4827ae61716"
      },
      "source": [
        "performance = []\n",
        "for model in ml_models:\n",
        "  print(ml_models.index(model)+1)\n",
        "  performance.append(regression_model(model))"
      ],
      "execution_count": null,
      "outputs": [
        {
          "output_type": "stream",
          "text": [
            "1\n",
            "2\n",
            "3\n",
            "4\n",
            "5\n",
            "6\n",
            "7\n",
            "8\n",
            "9\n",
            "10\n",
            "11\n"
          ],
          "name": "stdout"
        }
      ]
    },
    {
      "cell_type": "code",
      "metadata": {
        "id": "X5dlBFWTh-2-"
      },
      "source": [
        "performance_df = pd.DataFrame(performance, columns=['MAE','RMSE'])\n",
        "performance_df['Regression_models'] = ['Dummy','KNN','XGBoost','AdaBoost','GradientBoost','RandomForest','Linear','Lasso','Ridge','OrdinalLogistic','MLP']\n",
        "performance_df = performance_df[['Regression_models','MAE','RMSE']]"
      ],
      "execution_count": null,
      "outputs": []
    },
    {
      "cell_type": "code",
      "metadata": {
        "colab": {
          "base_uri": "https://localhost:8080/",
          "height": 390
        },
        "id": "oqvL307_GEl6",
        "outputId": "9c8c5baa-db86-4fe0-9ba2-818833a2b6f7"
      },
      "source": [
        "performance_df"
      ],
      "execution_count": null,
      "outputs": [
        {
          "output_type": "execute_result",
          "data": {
            "text/html": [
              "<div>\n",
              "<style scoped>\n",
              "    .dataframe tbody tr th:only-of-type {\n",
              "        vertical-align: middle;\n",
              "    }\n",
              "\n",
              "    .dataframe tbody tr th {\n",
              "        vertical-align: top;\n",
              "    }\n",
              "\n",
              "    .dataframe thead th {\n",
              "        text-align: right;\n",
              "    }\n",
              "</style>\n",
              "<table border=\"1\" class=\"dataframe\">\n",
              "  <thead>\n",
              "    <tr style=\"text-align: right;\">\n",
              "      <th></th>\n",
              "      <th>Regression_models</th>\n",
              "      <th>MAE</th>\n",
              "      <th>RMSE</th>\n",
              "    </tr>\n",
              "  </thead>\n",
              "  <tbody>\n",
              "    <tr>\n",
              "      <th>0</th>\n",
              "      <td>Dummy</td>\n",
              "      <td>1.042430</td>\n",
              "      <td>1.333342</td>\n",
              "    </tr>\n",
              "    <tr>\n",
              "      <th>1</th>\n",
              "      <td>KNN</td>\n",
              "      <td>0.894803</td>\n",
              "      <td>1.221825</td>\n",
              "    </tr>\n",
              "    <tr>\n",
              "      <th>2</th>\n",
              "      <td>XGBoost</td>\n",
              "      <td>0.887444</td>\n",
              "      <td>1.136202</td>\n",
              "    </tr>\n",
              "    <tr>\n",
              "      <th>3</th>\n",
              "      <td>AdaBoost</td>\n",
              "      <td>0.974353</td>\n",
              "      <td>1.174421</td>\n",
              "    </tr>\n",
              "    <tr>\n",
              "      <th>4</th>\n",
              "      <td>GradientBoost</td>\n",
              "      <td>0.877496</td>\n",
              "      <td>1.132129</td>\n",
              "    </tr>\n",
              "    <tr>\n",
              "      <th>5</th>\n",
              "      <td>RandomForest</td>\n",
              "      <td>0.856854</td>\n",
              "      <td>1.113880</td>\n",
              "    </tr>\n",
              "    <tr>\n",
              "      <th>6</th>\n",
              "      <td>Linear</td>\n",
              "      <td>0.917794</td>\n",
              "      <td>1.179364</td>\n",
              "    </tr>\n",
              "    <tr>\n",
              "      <th>7</th>\n",
              "      <td>Lasso</td>\n",
              "      <td>1.042430</td>\n",
              "      <td>1.333342</td>\n",
              "    </tr>\n",
              "    <tr>\n",
              "      <th>8</th>\n",
              "      <td>Ridge</td>\n",
              "      <td>0.917935</td>\n",
              "      <td>1.179333</td>\n",
              "    </tr>\n",
              "    <tr>\n",
              "      <th>9</th>\n",
              "      <td>OrdinalLogistic</td>\n",
              "      <td>0.875950</td>\n",
              "      <td>1.222671</td>\n",
              "    </tr>\n",
              "    <tr>\n",
              "      <th>10</th>\n",
              "      <td>MLP</td>\n",
              "      <td>0.880643</td>\n",
              "      <td>1.143446</td>\n",
              "    </tr>\n",
              "  </tbody>\n",
              "</table>\n",
              "</div>"
            ],
            "text/plain": [
              "   Regression_models       MAE      RMSE\n",
              "0              Dummy  1.042430  1.333342\n",
              "1                KNN  0.894803  1.221825\n",
              "2            XGBoost  0.887444  1.136202\n",
              "3           AdaBoost  0.974353  1.174421\n",
              "4      GradientBoost  0.877496  1.132129\n",
              "5       RandomForest  0.856854  1.113880\n",
              "6             Linear  0.917794  1.179364\n",
              "7              Lasso  1.042430  1.333342\n",
              "8              Ridge  0.917935  1.179333\n",
              "9    OrdinalLogistic  0.875950  1.222671\n",
              "10               MLP  0.880643  1.143446"
            ]
          },
          "metadata": {
            "tags": []
          },
          "execution_count": 45
        }
      ]
    },
    {
      "cell_type": "code",
      "metadata": {
        "colab": {
          "base_uri": "https://localhost:8080/"
        },
        "id": "HbpuVeShQUYz",
        "outputId": "461b483a-0c25-4d7b-9407-ac2df653b00b"
      },
      "source": [
        "(1.042430-0.856854)/1.042430"
      ],
      "execution_count": null,
      "outputs": [
        {
          "output_type": "execute_result",
          "data": {
            "text/plain": [
              "0.17802250510825665"
            ]
          },
          "metadata": {
            "tags": []
          },
          "execution_count": 49
        }
      ]
    },
    {
      "cell_type": "code",
      "metadata": {
        "colab": {
          "base_uri": "https://localhost:8080/"
        },
        "id": "ic2KsN90Qfc7",
        "outputId": "33d656c9-f5cb-4d16-a638-435fb8b92871"
      },
      "source": [
        "(1.333342-1.113880)/1.333342"
      ],
      "execution_count": null,
      "outputs": [
        {
          "output_type": "execute_result",
          "data": {
            "text/plain": [
              "0.16459543012970418"
            ]
          },
          "metadata": {
            "tags": []
          },
          "execution_count": 50
        }
      ]
    },
    {
      "cell_type": "code",
      "metadata": {
        "colab": {
          "base_uri": "https://localhost:8080/",
          "height": 433
        },
        "id": "bCwG1z2KHAHj",
        "outputId": "de03fba4-5dcd-4c12-c17f-93dc4618b5af"
      },
      "source": [
        "performance_df.sort_values(by='MAE').plot(kind='bar')\n",
        "sns.set(rc={'figure.figsize':(15,5)})\n",
        "sns.set(font_scale = 1.5)\n",
        "plt.xticks(range(10),performance_df.sort_values(by='MAE').Regression_models,rotation='vertical')\n",
        "plt.legend(loc=2, bbox_to_anchor=(1.05,1.0),borderaxespad = 0.)  \n",
        "plt.show()"
      ],
      "execution_count": null,
      "outputs": [
        {
          "output_type": "display_data",
          "data": {
            "image/png": "[encoded data removed]",
            "text/plain": [
              "<Figure size 360x360 with 1 Axes>"
            ]
          },
          "metadata": {
            "tags": []
          }
        }
      ]
    },
    {
      "cell_type": "code",
      "metadata": {
        "colab": {
          "base_uri": "https://localhost:8080/",
          "height": 457
        },
        "id": "ZL2cgFUbLHnG",
        "outputId": "48381631-862c-41ea-9061-1201f53be79b"
      },
      "source": [
        "sns.set(rc={'figure.figsize':(5,5)})\n",
        "sns.set(font_scale = 1.5)\n",
        "# f,(ax1,ax2)=plt.subplots(2,1)\n",
        "sns.barplot(x='Regression_models',y='MAE',data=performance_df.sort_values(by='MAE'), palette=\"Blues_d\")\n",
        "plt.xticks(rotation='vertical')\n",
        "plt.show()"
      ],
      "execution_count": null,
      "outputs": [
        {
          "output_type": "display_data",
          "data": {
            "image/png": "[encoded data removed]",
            "text/plain": [
              "<Figure size 360x360 with 1 Axes>"
            ]
          },
          "metadata": {
            "tags": []
          }
        }
      ]
    },
    {
      "cell_type": "code",
      "metadata": {
        "colab": {
          "base_uri": "https://localhost:8080/",
          "height": 464
        },
        "id": "QSpzwjLuJ4b9",
        "outputId": "ce6f7be5-d019-4545-90d2-ceb9b6dcd521"
      },
      "source": [
        "sns.set(rc={'figure.figsize':(5,5)})\n",
        "sns.set(font_scale = 1.5)\n",
        "sns.barplot(x='Regression_models',y='RMSE',data=performance_df.sort_values(by='RMSE'), palette=\"Blues_d\")\n",
        "plt.xticks(rotation='vertical')\n",
        "plt.show()"
      ],
      "execution_count": null,
      "outputs": [
        {
          "output_type": "display_data",
          "data": {
            "image/png": "[encoded data removed]",
            "text/plain": [
              "<Figure size 360x360 with 1 Axes>"
            ]
          },
          "metadata": {
            "tags": []
          }
        }
      ]
    },
    {
      "cell_type": "markdown",
      "metadata": {
        "id": "14wXrotGmkH7"
      },
      "source": [
        "# Parameter tuning"
      ]
    },
    {
      "cell_type": "code",
      "metadata": {
        "id": "zVsU1Z0-mrWG"
      },
      "source": [
        "# ## RandomForest\n",
        "# def param_tunning(reg_model):\n",
        "#   pipe = Pipeline([('scaler1', MinMaxScaler()),('scaler2', StandardScaler()), ('reg',reg_model)])\n",
        "#   pipe.fit(X_train,y_train)\n",
        "#   y_train_pred = pipe.predict(X_train)\n",
        "#   mae_train = mean_absolute_error(y_train,y_train_pred)\n",
        "#   y_val_pred = pipe.predict(X_val)\n",
        "#   mae_val = mean_absolute_error(y_val,y_val_pred)\n",
        "#   # mse = mean_squared_error(y_val,y_val_pred)\n",
        "#   # rmse = np.sqrt(mse)\n",
        "#   return mae_train,mae_val\n",
        "\n",
        "# estimator_list = [50,80,100,150,200]\n",
        "# mae_train_list = []\n",
        "# mae_val_list = []\n",
        "# for estimator_num in estimator_list:\n",
        "#   mae_train, mae_val = param_tunning(RandomForestRegressor(n_estimators=estimator_num))\n",
        "#   mae_train_list.append(mae_train)\n",
        "#   mae_val_list.append(mae_val)\n",
        "\n",
        "# plt.plot(estimator_list,mae_train_list,color='b')\n",
        "# plt.plot(estimator_list,mae_val_list,color='orange')\n",
        "# plt.show()"
      ],
      "execution_count": null,
      "outputs": []
    },
    {
      "cell_type": "code",
      "metadata": {
        "colab": {
          "base_uri": "https://localhost:8080/"
        },
        "id": "jtdqmTVdz36l",
        "outputId": "0bac4b7c-ac44-436e-d310-93094accb38c"
      },
      "source": [
        "# try GridSearchCV\n",
        "# Random Forest\n",
        "from sklearn.model_selection import GridSearchCV\n",
        "pipe = Pipeline([('scaler1', MinMaxScaler()),('scaler2', StandardScaler()), ('RF',RandomForestRegressor())])\n",
        "param_grid = [{\n",
        "        'RF__n_estimators' : [100,150,200],\n",
        "        'RF__min_samples_leaf' : [1,3,5,10],\n",
        "        }]\n",
        "CV_RF = GridSearchCV(estimator = pipe, param_grid = param_grid, scoring = 'neg_mean_absolute_error')\n",
        "CV_RF.fit(X_train_val, y_train_val)\n",
        "print(CV_RF.best_score_)\n",
        "print(CV_RF.best_params_)\n",
        "y_pred = CV_RF.predict(X_test)\n",
        "test_mae = mean_absolute_error(y_test, y_pred)\n",
        "test_rmse = np.sqrt(mean_squared_error(y_test, y_pred))\n",
        "print(test_mae, test_rmse)"
      ],
      "execution_count": null,
      "outputs": [
        {
          "output_type": "stream",
          "text": [
            "-0.8498337250779215\n",
            "{'RF__min_samples_leaf': 3, 'RF__n_estimators': 200}\n",
            "0.8389467676934504 1.0924994578211844\n"
          ],
          "name": "stdout"
        }
      ]
    },
    {
      "cell_type": "code",
      "metadata": {
        "colab": {
          "base_uri": "https://localhost:8080/"
        },
        "id": "dKUazBsFpCue",
        "outputId": "c9a0c0c6-4f6d-48ba-c801-2366b1592f71"
      },
      "source": [
        "# GBDT\n",
        "pipe = Pipeline([('scaler1', MinMaxScaler()),('scaler2', StandardScaler()), ('GBDT',GradientBoostingRegressor())])\n",
        "param_grid = [{\n",
        "        'GBDT__n_estimators' : [100,150,200],\n",
        "        'GBDT__min_samples_leaf' : [1,3,5,10],\n",
        "        'GBDT__max_depth': [3,5,10]\n",
        "        }]\n",
        "CV_GBDT = GridSearchCV(estimator = pipe, param_grid = param_grid, scoring = 'neg_mean_absolute_error',cv=3)\n",
        "CV_GBDT.fit(X_train_val, y_train_val)\n",
        "print(CV_GBDT.best_score_)\n",
        "print(CV_GBDT.best_params_)\n",
        "\n",
        "y_pred = CV_GBDT.predict(X_test)\n",
        "test_mae = mean_absolute_error(y_test, y_pred)\n",
        "test_rmse = np.sqrt(mean_squared_error(y_test, y_pred))\n",
        "print(test_mae, test_rmse)"
      ],
      "execution_count": null,
      "outputs": [
        {
          "output_type": "stream",
          "text": [
            "-0.8486304342104177\n",
            "{'GBDT__max_depth': 10, 'GBDT__min_samples_leaf': 3, 'GBDT__n_estimators': 200}\n",
            "0.8348294652632501 1.099021468040919\n"
          ],
          "name": "stdout"
        }
      ]
    },
    {
      "cell_type": "markdown",
      "metadata": {
        "id": "Bnvwfh7HuPc-"
      },
      "source": [
        "# Presentation"
      ]
    },
    {
      "cell_type": "code",
      "metadata": {
        "id": "yiA4upCqmJdo"
      },
      "source": [
        "temp1 = pd.DataFrame({'model':['Dummy','SVD++','RandomForest','Network\\n+\\nRandomForest'],\n",
        "                      'MAE':[1.030636,1.0162, 0.852916, 0.841261],\n",
        "                      'RMSE':[1.316716,1.3011,1.105447,1.105060]})\n",
        "# sns.set(rc={'figure.figsize':(4,5)})\n",
        "plt.figure(figsize=(8, 4))\n",
        "sns.set(font_scale = 5)\n",
        "sns.set(style=\"white\", color_codes=True)\n",
        "temp1.sort_values(by='MAE').plot(kind='bar')\n",
        "# plt.xticks(range(4),temp1.sort_values(by='MAE').model,rotation='vertical')\n",
        "plt.xticks(range(4),temp1.sort_values(by='MAE').model,rotation=30,fontsize=13)\n",
        "# plt.legend(loc=2, bbox_to_anchor=(1.05,1.0),borderaxespad = 0.)  \n",
        "plt.show()"
      ],
      "execution_count": null,
      "outputs": []
    },
    {
      "cell_type": "code",
      "metadata": {
        "colab": {
          "base_uri": "https://localhost:8080/"
        },
        "id": "TR_G7KGLR0Es",
        "outputId": "b790a964-be3e-413e-e1fc-ed5c20cfc43f"
      },
      "source": [
        "(1.03-0.84)/1.03"
      ],
      "execution_count": 1,
      "outputs": [
        {
          "output_type": "execute_result",
          "data": {
            "text/plain": [
              "0.18446601941747579"
            ]
          },
          "metadata": {
            "tags": []
          },
          "execution_count": 1
        }
      ]
    }
  ]
}